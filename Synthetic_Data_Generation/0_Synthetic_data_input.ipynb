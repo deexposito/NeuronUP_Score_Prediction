{
 "cells": [
  {
   "cell_type": "markdown",
   "metadata": {},
   "source": [
    "## 0. DATA FOR SYNTHETIC MODELS"
   ]
  },
  {
   "cell_type": "code",
   "execution_count": 2,
   "metadata": {
    "executionInfo": {
     "elapsed": 312,
     "status": "ok",
     "timestamp": 1697713670962,
     "user": {
      "displayName": "Denis Expósito Navarro",
      "userId": "10038022508210993458"
     },
     "user_tz": -120
    },
    "id": "iB5XZ6hO72sr",
    "tags": []
   },
   "outputs": [],
   "source": [
    "import pandas as pd\n",
    "import numpy as np \n",
    "import warnings"
   ]
  },
  {
   "cell_type": "markdown",
   "metadata": {},
   "source": [
    "## 1) Prepare data for synthetic models"
   ]
  },
  {
   "cell_type": "markdown",
   "metadata": {},
   "source": [
    "We will develop models to generate new synthetic data similar to our score dataset. To do so, formats need to be the same so we should not create columns for each area. \n",
    "We start working with the two raw subsets:"
   ]
  },
  {
   "cell_type": "code",
   "execution_count": 4,
   "metadata": {
    "tags": []
   },
   "outputs": [],
   "source": [
    "df1 = pd.read_csv('../data/raw_data/raw_subset_data1.csv')\n",
    "df2 = pd.read_csv('../data/raw_data/raw_subset_data2.csv')"
   ]
  },
  {
   "cell_type": "code",
   "execution_count": 5,
   "metadata": {
    "tags": []
   },
   "outputs": [],
   "source": [
    "df1 = df1.drop(columns=['education_id', 'Unnamed: 0'], axis=1)\n",
    "df2 = df2.drop(columns=['education_id', 'id', 'Unnamed: 0'], axis=1)"
   ]
  },
  {
   "cell_type": "code",
   "execution_count": 6,
   "metadata": {
    "tags": []
   },
   "outputs": [],
   "source": [
    "# Remove patients with no gender and birthdate\n",
    "df1 = df1[df1['gender'].notnull()] \n",
    "df1 = df1[df1['birthdate'].notnull()] \n",
    "\n",
    "df2 = df2[df2['gender'].notnull()] \n",
    "df2 = df2[df2['birthdate'].notnull()] "
   ]
  },
  {
   "cell_type": "code",
   "execution_count": 7,
   "metadata": {
    "tags": []
   },
   "outputs": [
    {
     "data": {
      "text/html": [
       "<div>\n",
       "<style scoped>\n",
       "    .dataframe tbody tr th:only-of-type {\n",
       "        vertical-align: middle;\n",
       "    }\n",
       "\n",
       "    .dataframe tbody tr th {\n",
       "        vertical-align: top;\n",
       "    }\n",
       "\n",
       "    .dataframe thead th {\n",
       "        text-align: right;\n",
       "    }\n",
       "</style>\n",
       "<table border=\"1\" class=\"dataframe\">\n",
       "  <thead>\n",
       "    <tr style=\"text-align: right;\">\n",
       "      <th></th>\n",
       "      <th>patient_id</th>\n",
       "      <th>day</th>\n",
       "      <th>score</th>\n",
       "      <th>area_id</th>\n",
       "      <th>area_score</th>\n",
       "      <th>gender</th>\n",
       "      <th>birthdate</th>\n",
       "    </tr>\n",
       "  </thead>\n",
       "  <tbody>\n",
       "    <tr>\n",
       "      <th>0</th>\n",
       "      <td>5763</td>\n",
       "      <td>2020-01-01T00:00:00.000Z</td>\n",
       "      <td>0.4174</td>\n",
       "      <td>13</td>\n",
       "      <td>0.4730</td>\n",
       "      <td>1.0</td>\n",
       "      <td>2016-02-09</td>\n",
       "    </tr>\n",
       "    <tr>\n",
       "      <th>1</th>\n",
       "      <td>5763</td>\n",
       "      <td>2020-01-01T00:00:00.000Z</td>\n",
       "      <td>0.4174</td>\n",
       "      <td>14</td>\n",
       "      <td>0.2977</td>\n",
       "      <td>1.0</td>\n",
       "      <td>2016-02-09</td>\n",
       "    </tr>\n",
       "    <tr>\n",
       "      <th>2</th>\n",
       "      <td>5763</td>\n",
       "      <td>2020-01-01T00:00:00.000Z</td>\n",
       "      <td>0.4174</td>\n",
       "      <td>15</td>\n",
       "      <td>0.1667</td>\n",
       "      <td>1.0</td>\n",
       "      <td>2016-02-09</td>\n",
       "    </tr>\n",
       "    <tr>\n",
       "      <th>3</th>\n",
       "      <td>5763</td>\n",
       "      <td>2020-01-01T00:00:00.000Z</td>\n",
       "      <td>0.4174</td>\n",
       "      <td>16</td>\n",
       "      <td>0.2477</td>\n",
       "      <td>1.0</td>\n",
       "      <td>2016-02-09</td>\n",
       "    </tr>\n",
       "    <tr>\n",
       "      <th>4</th>\n",
       "      <td>5763</td>\n",
       "      <td>2020-01-01T00:00:00.000Z</td>\n",
       "      <td>0.4174</td>\n",
       "      <td>22</td>\n",
       "      <td>0.1667</td>\n",
       "      <td>1.0</td>\n",
       "      <td>2016-02-09</td>\n",
       "    </tr>\n",
       "  </tbody>\n",
       "</table>\n",
       "</div>"
      ],
      "text/plain": [
       "   patient_id                       day   score  area_id  area_score  gender  \\\n",
       "0        5763  2020-01-01T00:00:00.000Z  0.4174       13      0.4730     1.0   \n",
       "1        5763  2020-01-01T00:00:00.000Z  0.4174       14      0.2977     1.0   \n",
       "2        5763  2020-01-01T00:00:00.000Z  0.4174       15      0.1667     1.0   \n",
       "3        5763  2020-01-01T00:00:00.000Z  0.4174       16      0.2477     1.0   \n",
       "4        5763  2020-01-01T00:00:00.000Z  0.4174       22      0.1667     1.0   \n",
       "\n",
       "    birthdate  \n",
       "0  2016-02-09  \n",
       "1  2016-02-09  \n",
       "2  2016-02-09  \n",
       "3  2016-02-09  \n",
       "4  2016-02-09  "
      ]
     },
     "execution_count": 7,
     "metadata": {},
     "output_type": "execute_result"
    }
   ],
   "source": [
    "df2.head()"
   ]
  },
  {
   "cell_type": "markdown",
   "metadata": {},
   "source": [
    "We merge the subsets and eliminate duplicates from their intersection:"
   ]
  },
  {
   "cell_type": "code",
   "execution_count": 12,
   "metadata": {
    "tags": []
   },
   "outputs": [],
   "source": [
    "merged_df = pd.concat([df1, df2], ignore_index=True, sort=False)"
   ]
  },
  {
   "cell_type": "code",
   "execution_count": 14,
   "metadata": {
    "tags": []
   },
   "outputs": [],
   "source": [
    "clean_data = merged_df.drop_duplicates(['day', 'patient_id', 'area_id', 'area_score']) # duplicated ones during the process, subsets solapados\n"
   ]
  },
  {
   "cell_type": "markdown",
   "metadata": {},
   "source": [
    "We finally correct for surreal birthdates and save the file that will be used as input for these models."
   ]
  },
  {
   "cell_type": "code",
   "execution_count": 15,
   "metadata": {
    "tags": []
   },
   "outputs": [],
   "source": [
    "warnings.filterwarnings('ignore')\n",
    "\n",
    "clean_data['birthdate'] = pd.to_datetime(clean_data['birthdate'], format='%Y-%m-%d', errors='coerce').dt.strftime('%Y-%m-%d')\n",
    "clean_data[\"day\"] = pd.to_datetime(clean_data[\"day\"], errors='coerce').dt.strftime('%Y-%m-%d')"
   ]
  },
  {
   "cell_type": "code",
   "execution_count": 17,
   "metadata": {
    "tags": []
   },
   "outputs": [],
   "source": [
    "clean_data = clean_data[clean_data['birthdate'].notnull()] "
   ]
  },
  {
   "cell_type": "code",
   "execution_count": 18,
   "metadata": {
    "tags": []
   },
   "outputs": [],
   "source": [
    "clean_data['birth_year'] = pd.to_datetime(clean_data['birthdate']).dt.year\n",
    "\n",
    "clean_data = clean_data.dropna(subset=['birth_year'])\n",
    "clean_data = clean_data[(clean_data['birth_year'] >= 1900) & (clean_data['birth_year'] <= 2023)] # no unreal ages"
   ]
  },
  {
   "cell_type": "code",
   "execution_count": 19,
   "metadata": {
    "tags": []
   },
   "outputs": [],
   "source": [
    "clean_data = clean_data.drop('birth_year', axis=1)"
   ]
  },
  {
   "cell_type": "code",
   "execution_count": 22,
   "metadata": {
    "tags": []
   },
   "outputs": [],
   "source": [
    "# clean_data.to_csv('../data/input_syntheticmodels.csv', index=False)"
   ]
  },
  {
   "cell_type": "markdown",
   "metadata": {},
   "source": [
    "Now data is prepared for the models... see Jupyter Notebooks 1 and 2"
   ]
  }
 ],
 "metadata": {
  "colab": {
   "authorship_tag": "ABX9TyPyGuuvC3IBCMg6kIeXnH6y",
   "provenance": []
  },
  "kernelspec": {
   "display_name": "Python 3 (ipykernel)",
   "language": "python",
   "name": "python3"
  },
  "language_info": {
   "codemirror_mode": {
    "name": "ipython",
    "version": 3
   },
   "file_extension": ".py",
   "mimetype": "text/x-python",
   "name": "python",
   "nbconvert_exporter": "python",
   "pygments_lexer": "ipython3",
   "version": "3.11.5"
  }
 },
 "nbformat": 4,
 "nbformat_minor": 4
}
